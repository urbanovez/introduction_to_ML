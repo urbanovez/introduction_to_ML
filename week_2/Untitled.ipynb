{
 "cells": [
  {
   "cell_type": "code",
   "execution_count": 1,
   "metadata": {},
   "outputs": [
    {
     "name": "stdout",
     "output_type": "stream",
     "text": [
      "0.9776190476190475 29\n"
     ]
    }
   ],
   "source": [
    "#первая задача вторая неделя\n",
    "import pandas as pd\n",
    "import numpy as np\n",
    "from sklearn.model_selection import KFold\n",
    "from sklearn.model_selection import cross_val_score\n",
    "from sklearn.neighbors import KNeighborsClassifier\n",
    "from sklearn.preprocessing import scale\n",
    "data = np.genfromtxt('wine.data', delimiter=',')\n",
    "kf = KFold(n_splits=5, random_state=42, shuffle=True)\n",
    "X = (data[:,1:])\n",
    "X = scale(X)\n",
    "y = (data[:,0])\n",
    "i = -1\n",
    "k = 0\n",
    "neighbors_settings = range(1, 50)\n",
    "for n_neighbors in neighbors_settings:\n",
    "    estimator = KNeighborsClassifier(n_neighbors=n_neighbors)\n",
    "    scores = cross_val_score(estimator, X,y,cv = kf)\n",
    "    a = np.mean(scores)#в данный момент она Nan\n",
    "    if (a > i):\n",
    "        i = a\n",
    "        k = n_neighbors\n",
    "print(i, k)"
   ]
  },
  {
   "cell_type": "code",
   "execution_count": 2,
   "metadata": {},
   "outputs": [
    {
     "name": "stdout",
     "output_type": "stream",
     "text": [
      "0.8013825191275472 1.0\n"
     ]
    }
   ],
   "source": [
    "from sklearn.datasets import load_boston\n",
    "from sklearn.neighbors import KNeighborsRegressor\n",
    "X, y = load_boston(return_X_y=True)\n",
    "X = scale(X)\n",
    "kf = KFold(n_splits=5, random_state=42, shuffle=True)\n",
    "p_params = np.linspace(1, 10, num=200)\n",
    "ll = -1\n",
    "k = 0\n",
    "for i in p_params:\n",
    "    estimator = KNeighborsRegressor(n_neighbors=5, weights='distance', p=i, metric='minkowski')\n",
    "    #print(estimator)\n",
    "    scores = cross_val_score(estimator, X,y,cv = kf)\n",
    "    a = np.mean(scores)#в данный момент она Nan\n",
    "    if (a > ll):\n",
    "        ll = a\n",
    "        k = i\n",
    "print(ll, k)\n"
   ]
  },
  {
   "cell_type": "code",
   "execution_count": 6,
   "metadata": {},
   "outputs": [
    {
     "ename": "NameError",
     "evalue": "name 'scaler' is not defined",
     "output_type": "error",
     "traceback": [
      "\u001b[1;31m---------------------------------------------------------------------------\u001b[0m",
      "\u001b[1;31mNameError\u001b[0m                                 Traceback (most recent call last)",
      "\u001b[1;32m<ipython-input-6-05ab460b78b7>\u001b[0m in \u001b[0;36m<module>\u001b[1;34m\u001b[0m\n\u001b[0;32m     18\u001b[0m \u001b[0mpredictions\u001b[0m \u001b[1;33m=\u001b[0m \u001b[0mclf\u001b[0m\u001b[1;33m.\u001b[0m\u001b[0mscore\u001b[0m\u001b[1;33m(\u001b[0m\u001b[0mX_test\u001b[0m\u001b[1;33m,\u001b[0m \u001b[0my_test\u001b[0m \u001b[1;33m)\u001b[0m\u001b[1;33m\u001b[0m\u001b[1;33m\u001b[0m\u001b[0m\n\u001b[0;32m     19\u001b[0m \u001b[1;33m\u001b[0m\u001b[0m\n\u001b[1;32m---> 20\u001b[1;33m \u001b[0mX_train_scaled\u001b[0m \u001b[1;33m=\u001b[0m \u001b[0mscaler\u001b[0m\u001b[1;33m.\u001b[0m\u001b[0mfit_transform\u001b[0m\u001b[1;33m(\u001b[0m\u001b[0mX_train\u001b[0m\u001b[1;33m)\u001b[0m\u001b[1;33m\u001b[0m\u001b[1;33m\u001b[0m\u001b[0m\n\u001b[0m\u001b[0;32m     21\u001b[0m \u001b[0mX_test_scaled\u001b[0m \u001b[1;33m=\u001b[0m \u001b[0mscaler\u001b[0m\u001b[1;33m.\u001b[0m\u001b[0mtransform\u001b[0m\u001b[1;33m(\u001b[0m\u001b[0mX_test\u001b[0m\u001b[1;33m)\u001b[0m\u001b[1;33m\u001b[0m\u001b[1;33m\u001b[0m\u001b[0m\n\u001b[0;32m     22\u001b[0m \u001b[1;33m\u001b[0m\u001b[0m\n",
      "\u001b[1;31mNameError\u001b[0m: name 'scaler' is not defined"
     ]
    }
   ],
   "source": [
    "#третья задача\n",
    "import numpy as np\n",
    "import pandas as pd\n",
    "from sklearn.linear_model import Perceptron\n",
    "from sklearn.preprocessing import StandardScaler\n",
    "\n",
    "train = pandas.read_csv('perceptron-train.csv',header = None)\n",
    "test = pandas.read_csv('perceptron-test.csv',header = None)\n",
    "X_train = np.array(train.loc[:,1:])\n",
    "y_train = np.array(train.loc[:,0])\n",
    "X_test = np.array(test.loc[:,1:])\n",
    "y_test = np.array(test.loc[:,0])\n",
    "\n",
    "clf = Perceptron(random_state=241,max_iter=5, tol=None)\n",
    "\n",
    "clf.fit(X_train, y_train)\n",
    "\n",
    "predictions = clf.score(X_test, y_test )\n",
    "\n",
    "X_train_scaled = scaler.fit_transform(X_train)\n",
    "X_test_scaled = scaler.transform(X_test)\n",
    "\n",
    "\n",
    "clf.fit(X_train_scaled, y_train)\n",
    "predictions1 = clf.score(X_test_scaled, y_test )\n",
    "print(predictions1 -predictions)"
   ]
  },
  {
   "cell_type": "code",
   "execution_count": 11,
   "metadata": {},
   "outputs": [
    {
     "name": "stdout",
     "output_type": "stream",
     "text": [
      "[3 4 9]\n"
     ]
    }
   ],
   "source": [
    "#первая задача, третья неделя\n",
    "import numpy as np\n",
    "import pandas as pd\n",
    "from sklearn.svm import SVC\n",
    "data = pd.read_csv('svm-data.csv',header = None)\n",
    "data\n",
    "X = np.array(data.loc[:,1:])\n",
    "y = np.array(data.loc[:,0])\n",
    "clf = SVC(C = 10000,  kernel='linear', random_state=241)\n",
    "clf.fit(X, y)\n",
    "print(clf.support_)\n"
   ]
  },
  {
   "cell_type": "code",
   "execution_count": 20,
   "metadata": {},
   "outputs": [
    {
     "name": "stdout",
     "output_type": "stream",
     "text": [
      "(1786, 28382)\n"
     ]
    }
   ],
   "source": [
    "#вторая задача, третья неделя\n",
    "from sklearn import svm, datasets\n",
    "from sklearn.model_selection import GridSearchCV\n",
    "from sklearn.feature_extraction.text import TfidfVectorizer\n",
    "\n",
    "newsgroups = datasets.fetch_20newsgroups(\n",
    "                    subset='all', \n",
    "                    categories=['alt.atheism', 'sci.space']\n",
    "             )\n",
    "\n",
    "\n",
    "\n",
    "vectorizer = TfidfVectorizer()\n",
    "X = vectorizer.fit_transform(newsgroups.data)\n",
    "\n",
    "\n",
    "\n",
    "cv = KFold(n_splits=5, shuffle=True, random_state=241)\n",
    "grid = {'C': np.power(10.0, np.arange(-5, 6))}\n",
    "clf = svm.SVC(kernel='linear', random_state=241)\n",
    "gs = GridSearchCV(clf, grid, scoring='accuracy', cv=cv)\n",
    "gs.fit(X, newsgroups.target)\n",
    "\n"
   ]
  },
  {
   "cell_type": "code",
   "execution_count": 104,
   "metadata": {},
   "outputs": [
    {
     "name": "stdout",
     "output_type": "stream",
     "text": [
      "{'C': 1.0}\n"
     ]
    },
    {
     "data": {
      "text/plain": [
       "SVC(C=1.0, break_ties=False, cache_size=200, class_weight=None, coef0=0.0,\n",
       "    decision_function_shape='ovr', degree=3, gamma='scale', kernel='linear',\n",
       "    max_iter=-1, probability=False, random_state=241, shrinking=True, tol=0.001,\n",
       "    verbose=False)"
      ]
     },
     "execution_count": 104,
     "metadata": {},
     "output_type": "execute_result"
    }
   ],
   "source": [
    "c13 = gs.best_params_\n",
    "print(c13)\n",
    "clf1 = svm.SVC(C=1.0, kernel='linear', random_state=241)\n",
    "clf1.fit(X, newsgroups.target)"
   ]
  },
  {
   "cell_type": "code",
   "execution_count": 68,
   "metadata": {},
   "outputs": [],
   "source": [
    "coefs = abs(clf1.coef_.todense().A1)\n",
    "coefs = np.argsort(coefs)\n",
    "coefs1 = coefs[-10:]"
   ]
  },
  {
   "cell_type": "code",
   "execution_count": 103,
   "metadata": {},
   "outputs": [
    {
     "name": "stdout",
     "output_type": "stream",
     "text": [
      "ca,dc,ether,gamma,launch,moon,nasa,sci,sky,space\n"
     ]
    }
   ],
   "source": [
    "df2 = pd.DataFrame( np.transpose(clf1.coef_.toarray()), index=np.asarray(vectorizer.get_feature_names()) , columns=[\"col1\"])\n",
    "df2 = df2.sort_values(by=['col1'])\n",
    "df2 = df2.tail(10)\n",
    "#list(df2.columns.values)\n",
    "indexNamesArr = df2.index.values\n",
    "print(','.join(np.sort(indexNamesArr)))"
   ]
  },
  {
   "cell_type": "code",
   "execution_count": 108,
   "metadata": {},
   "outputs": [
    {
     "name": "stdout",
     "output_type": "stream",
     "text": [
      "atheism,atheists,bible,god,keith,moon,religion,sci,sky,space\n"
     ]
    }
   ],
   "source": [
    "l = np.array(['atheism', 'atheists', 'bible', 'god', 'keith', 'moon', 'religion',\n",
    "       'sci', 'sky', 'space'])\n",
    "print(','.join(np.sort(l)))"
   ]
  },
  {
   "cell_type": "code",
   "execution_count": null,
   "metadata": {},
   "outputs": [],
   "source": []
  }
 ],
 "metadata": {
  "kernelspec": {
   "display_name": "Python 3",
   "language": "python",
   "name": "python3"
  },
  "language_info": {
   "codemirror_mode": {
    "name": "ipython",
    "version": 3
   },
   "file_extension": ".py",
   "mimetype": "text/x-python",
   "name": "python",
   "nbconvert_exporter": "python",
   "pygments_lexer": "ipython3",
   "version": "3.7.6"
  }
 },
 "nbformat": 4,
 "nbformat_minor": 4
}
