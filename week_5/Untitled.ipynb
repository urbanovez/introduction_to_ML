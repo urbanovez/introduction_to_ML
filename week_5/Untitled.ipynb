{
 "cells": [
  {
   "cell_type": "code",
   "execution_count": 20,
   "metadata": {},
   "outputs": [
    {
     "name": "stdout",
     "output_type": "stream",
     "text": [
      "28\n"
     ]
    }
   ],
   "source": [
    "import pandas as pd\n",
    "from sklearn.ensemble import RandomForestRegressor\n",
    "from sklearn.model_selection import KFold\n",
    "from sklearn.model_selection import cross_val_score\n",
    "from sklearn.metrics import r2_score\n",
    "    \n",
    "data = pd.read_csv(\"abalone.csv\")\n",
    "data['Sex'] = data['Sex'].map(lambda x: 1 if x == 'M' else (-1 if x == 'F' else 0))\n",
    "X_data = data.iloc[:, :-1]\n",
    "y_data = data.iloc[:, -1]\n",
    "kf = KFold(n_splits=5, random_state=1, shuffle=True)\n",
    "for i in range(1, 50):\n",
    "    regr = RandomForestRegressor(n_estimators = i, random_state = 1)\n",
    "    fitted = regr.fit(X_data, y_data)\n",
    "    scores = cross_val_score(fitted, X_data,y_data, scoring='r2', cv = kf)\n",
    "    if(round(scores.mean(), 2) > 0.52):\n",
    "        print(i)\n",
    "        break\n",
    "    "
   ]
  },
  {
   "cell_type": "code",
   "execution_count": 12,
   "metadata": {},
   "outputs": [
    {
     "name": "stdout",
     "output_type": "stream",
     "text": [
      "      Iter       Train Loss   Remaining Time \n",
      "         1           1.2613           12.17s\n",
      "         2           1.1715           11.62s\n",
      "         3           1.1009           11.58s\n",
      "         4           1.0529           11.53s\n",
      "         5           1.0130           11.92s\n",
      "         6           0.9740           11.72s\n",
      "         7           0.9475           11.74s\n",
      "         8           0.9197           11.61s\n",
      "         9           0.8979           11.70s\n",
      "        10           0.8730           11.66s\n",
      "        20           0.7207           11.53s\n",
      "        30           0.6055           11.05s\n",
      "        40           0.5244           10.60s\n",
      "        50           0.4501           10.24s\n",
      "        60           0.3908            9.75s\n",
      "        70           0.3372            9.20s\n",
      "        80           0.3009            8.84s\n",
      "        90           0.2603            8.27s\n",
      "       100           0.2327            7.74s\n",
      "       200           0.0835            2.59s\n",
      "0.6569858986484096\n",
      "0.5301645204906471\n"
     ]
    },
    {
     "data": {
      "image/png": "[encoded data removed]",
      "text/plain": [
       "<Figure size 432x288 with 1 Axes>"
      ]
     },
     "metadata": {
      "needs_background": "light"
     },
     "output_type": "display_data"
    }
   ],
   "source": [
    "data = pd.read_csv('gbm-data.csv')\n",
    "Y = data[data.columns[0]].values\n",
    "X = data[data.columns[1:]].values\n",
    "\n",
    "X_train, X_test, Y_train, Y_test = train_test_split(X, Y, test_size=0.8, random_state=241)\n",
    "# train_loss = np.arange(1, 251)\n",
    "test_loss = np.empty(250)\n",
    "booster = GradientBoostingClassifier(n_estimators=250, learning_rate=0.2, random_state=241, verbose=True)\n",
    "booster.fit(X_train, Y_train)\n",
    "#for i, y_pred_train in enumerate(booster.staged_predict_proba(X_train)):\n",
    "   # train_loss[i] = metrics.log_loss(Y_train, y_pred_train)\n",
    "for m, y_decision in enumerate(booster.staged_decision_function(X_test)):\n",
    "    y_pred_test = 1.0/(1.0 + np.exp(-y_decision))\n",
    "    test_loss[m] = log_loss(Y_test, y_pred_test)\n",
    "print(test_loss.max())\n",
    "print(test_loss.min())\n",
    "plt.figure()\n",
    "# plt.plot(train_loss, 'g', linewidth=2)\n",
    "plt.plot(test_loss, 'r', linewidth=2)\n",
    "#plt.legend(['train', 'test'])\n",
    "plt.show()"
   ]
  },
  {
   "cell_type": "code",
   "execution_count": 23,
   "metadata": {},
   "outputs": [
    {
     "ename": "AttributeError",
     "evalue": "'RandomForestRegressor' object has no attribute 'predict_proba'",
     "output_type": "error",
     "traceback": [
      "\u001b[1;31m---------------------------------------------------------------------------\u001b[0m",
      "\u001b[1;31mAttributeError\u001b[0m                            Traceback (most recent call last)",
      "\u001b[1;32m<ipython-input-23-1e06fb754787>\u001b[0m in \u001b[0;36m<module>\u001b[1;34m\u001b[0m\n\u001b[0;32m      1\u001b[0m \u001b[0mregr\u001b[0m \u001b[1;33m=\u001b[0m \u001b[0mRandomForestRegressor\u001b[0m\u001b[1;33m(\u001b[0m\u001b[0mn_estimators\u001b[0m \u001b[1;33m=\u001b[0m \u001b[1;36m36\u001b[0m\u001b[1;33m,\u001b[0m \u001b[0mrandom_state\u001b[0m \u001b[1;33m=\u001b[0m \u001b[1;36m241\u001b[0m\u001b[1;33m)\u001b[0m\u001b[1;33m\u001b[0m\u001b[1;33m\u001b[0m\u001b[0m\n\u001b[0;32m      2\u001b[0m \u001b[0mregr\u001b[0m\u001b[1;33m.\u001b[0m\u001b[0mfit\u001b[0m\u001b[1;33m(\u001b[0m\u001b[0mX_train\u001b[0m\u001b[1;33m,\u001b[0m \u001b[0mY_train\u001b[0m\u001b[1;33m)\u001b[0m\u001b[1;33m\u001b[0m\u001b[1;33m\u001b[0m\u001b[0m\n\u001b[1;32m----> 3\u001b[1;33m \u001b[0my_pred\u001b[0m \u001b[1;33m=\u001b[0m \u001b[0mregr\u001b[0m\u001b[1;33m.\u001b[0m\u001b[0mpredict_proba\u001b[0m\u001b[1;33m(\u001b[0m\u001b[0mX_test\u001b[0m\u001b[1;33m)\u001b[0m\u001b[1;33m[\u001b[0m\u001b[1;33m:\u001b[0m\u001b[1;33m,\u001b[0m \u001b[1;36m1\u001b[0m\u001b[1;33m]\u001b[0m\u001b[1;33m\u001b[0m\u001b[1;33m\u001b[0m\u001b[0m\n\u001b[0m\u001b[0;32m      4\u001b[0m \u001b[0mtest_loss\u001b[0m \u001b[1;33m=\u001b[0m \u001b[0mlog_loss\u001b[0m\u001b[1;33m(\u001b[0m\u001b[0my_test\u001b[0m\u001b[1;33m,\u001b[0m \u001b[0my_pred\u001b[0m\u001b[1;33m)\u001b[0m\u001b[1;33m\u001b[0m\u001b[1;33m\u001b[0m\u001b[0m\n\u001b[0;32m      5\u001b[0m \u001b[0mprint\u001b[0m\u001b[1;33m(\u001b[0m\u001b[0mtest_loss\u001b[0m\u001b[1;33m)\u001b[0m\u001b[1;33m\u001b[0m\u001b[1;33m\u001b[0m\u001b[0m\n",
      "\u001b[1;31mAttributeError\u001b[0m: 'RandomForestRegressor' object has no attribute 'predict_proba'"
     ]
    }
   ],
   "source": [
    "regr = RandomForestRegressor(n_estimators = 36, random_state = 241)\n",
    "regr.fit(X_train, Y_train)\n",
    "y_pred = regr.predict_proba(X_test)[:, 1]\n",
    "test_loss = log_loss(y_test, y_pred)\n",
    "print(test_loss)"
   ]
  },
  {
   "cell_type": "code",
   "execution_count": null,
   "metadata": {},
   "outputs": [],
   "source": []
  }
 ],
 "metadata": {
  "kernelspec": {
   "display_name": "Python 3",
   "language": "python",
   "name": "python3"
  },
  "language_info": {
   "codemirror_mode": {
    "name": "ipython",
    "version": 3
   },
   "file_extension": ".py",
   "mimetype": "text/x-python",
   "name": "python",
   "nbconvert_exporter": "python",
   "pygments_lexer": "ipython3",
   "version": "3.7.6"
  }
 },
 "nbformat": 4,
 "nbformat_minor": 4
}
